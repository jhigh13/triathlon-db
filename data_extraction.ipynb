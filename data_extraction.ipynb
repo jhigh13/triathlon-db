{
 "cells": [
  {
   "cell_type": "code",
   "execution_count": 1,
   "id": "2f37c019",
   "metadata": {},
   "outputs": [
    {
     "ename": "ModuleNotFoundError",
     "evalue": "No module named 'Data_Import'",
     "output_type": "error",
     "traceback": [
      "\u001b[31m---------------------------------------------------------------------------\u001b[39m",
      "\u001b[31mModuleNotFoundError\u001b[39m                       Traceback (most recent call last)",
      "\u001b[36mCell\u001b[39m\u001b[36m \u001b[39m\u001b[32mIn[1]\u001b[39m\u001b[32m, line 8\u001b[39m\n\u001b[32m      6\u001b[39m \u001b[38;5;28;01mimport\u001b[39;00m\u001b[38;5;250m \u001b[39m\u001b[34;01mpandas\u001b[39;00m\u001b[38;5;250m \u001b[39m\u001b[38;5;28;01mas\u001b[39;00m\u001b[38;5;250m \u001b[39m\u001b[34;01mpd\u001b[39;00m\n\u001b[32m      7\u001b[39m \u001b[38;5;28;01mfrom\u001b[39;00m\u001b[38;5;250m \u001b[39m\u001b[34;01msqlalchemy\u001b[39;00m\u001b[38;5;250m \u001b[39m\u001b[38;5;28;01mimport\u001b[39;00m create_engine, text\n\u001b[32m----> \u001b[39m\u001b[32m8\u001b[39m \u001b[38;5;28;01mfrom\u001b[39;00m\u001b[38;5;250m \u001b[39m\u001b[34;01mData_Import\u001b[39;00m\u001b[34;01m.\u001b[39;00m\u001b[34;01mdatabase\u001b[39;00m\u001b[38;5;250m \u001b[39m\u001b[38;5;28;01mimport\u001b[39;00m get_engine\n\u001b[32m     10\u001b[39m \u001b[38;5;66;03m# Create SQLAlchemy engine\u001b[39;00m\n\u001b[32m     11\u001b[39m engine = get_engine(echo=\u001b[38;5;28;01mFalse\u001b[39;00m)\n",
      "\u001b[31mModuleNotFoundError\u001b[39m: No module named 'Data_Import'"
     ]
    }
   ],
   "source": [
    "# ML Data Extraction Prototype\n",
    "# This notebook will connect to the database, extract and join the tables needed\n",
    "# to begin feature engineering for the next-race prediction model.\n",
    "\n",
    "# 1. Imports and engine setup\n",
    "import pandas as pd\n",
    "from sqlalchemy import create_engine, text\n",
    "from Data_Import.database import get_engine\n",
    "\n",
    "# Create SQLAlchemy engine\n",
    "engine = get_engine(echo=False)"
   ]
  },
  {
   "cell_type": "code",
   "execution_count": null,
   "id": "de56ac56",
   "metadata": {},
   "outputs": [],
   "source": [
    "# 2. Inspect available tables\n",
    "with engine.connect() as conn:\n",
    "    tables = conn.execute(text(\"SELECT table_name FROM information_schema.tables WHERE table_schema='public';\")).fetchall()\n",
    "tables_list = [t[0] for t in tables]\n",
    "print(\"Available tables:\", tables_list)\n",
    "\n",
    "# 3. Load raw tables into DataFrames\n",
    "# Athlete dimension\n",
    "athletes_df = pd.read_sql_table('athlete', engine)\n",
    "# Events dimension\n",
    "events_df   = pd.read_sql_table('events', engine)\n",
    "# Race results fact table\n",
    "results_df  = pd.read_sql_table('race_results', engine)\n",
    "\n",
    "print(f\"Athletes: {len(athletes_df)} rows\")\n",
    "print(f\"Events: {len(events_df)} rows\")\n",
    "print(f\"Race results: {len(results_df)} rows\")\n",
    "\n",
    "# 4. Join tables for ML dataset\n",
    "# Convert EventDate to datetime for feature engineering\n",
    "events_df['EventDate'] = pd.to_datetime(events_df['EventDate'])\n",
    "# Merge results with events and athletes\n",
    "ml_df = (\n",
    "    results_df\n",
    "    .merge(events_df, on='EventID', how='left')\n",
    "    .merge(athletes_df, left_on='athlete_id', right_on='athlete_id', how='left')\n",
    ")\n",
    "\n",
    "print(f\"ML dataset shape: {ml_df.shape}\")\n",
    "ml_df.head()\n",
    "\n",
    "# 5. Save or cache the extracted DataFrame for next steps\n",
    "# e.g., to a parquet file\n",
    "ml_df.to_parquet('data/ml_raw_dataset.parquet', index=False)\n",
    "print(\"Raw ML dataset saved to data/ml_raw_dataset.parquet\")\n"
   ]
  }
 ],
 "metadata": {
  "kernelspec": {
   "display_name": ".venv",
   "language": "python",
   "name": "python3"
  },
  "language_info": {
   "codemirror_mode": {
    "name": "ipython",
    "version": 3
   },
   "file_extension": ".py",
   "mimetype": "text/x-python",
   "name": "python",
   "nbconvert_exporter": "python",
   "pygments_lexer": "ipython3",
   "version": "3.13.3"
  }
 },
 "nbformat": 4,
 "nbformat_minor": 5
}
